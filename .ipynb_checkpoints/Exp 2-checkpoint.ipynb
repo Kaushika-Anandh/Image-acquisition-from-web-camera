{
 "cells": [
  {
   "cell_type": "code",
   "execution_count": null,
   "id": "ba197261",
   "metadata": {},
   "outputs": [],
   "source": [
    "import cv2\n",
    "VidCap=cv2.VideoCapture(0)\n",
    "while(True):\n",
    "    ret,frame=VidCap.read()\n",
    "    cv2.imshow('video_image',frame)\n",
    "    if cv2.waitKey(1) == ord('q'):\n",
    "        break\n",
    "VidCap.release()\n",
    "cv2.destroyAllWindows()"
   ]
  },
  {
   "cell_type": "code",
   "execution_count": null,
   "id": "307b6bd5",
   "metadata": {},
   "outputs": [],
   "source": []
  }
 ],
 "metadata": {
  "kernelspec": {
   "display_name": "Python 3 (ipykernel)",
   "language": "python",
   "name": "python3"
  },
  "language_info": {
   "codemirror_mode": {
    "name": "ipython",
    "version": 3
   },
   "file_extension": ".py",
   "mimetype": "text/x-python",
   "name": "python",
   "nbconvert_exporter": "python",
   "pygments_lexer": "ipython3",
   "version": "3.9.13"
  }
 },
 "nbformat": 4,
 "nbformat_minor": 5
}
